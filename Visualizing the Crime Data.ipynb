{
 "cells": [
  {
   "cell_type": "markdown",
   "id": "c8b4d553",
   "metadata": {},
   "source": [
    "# Visualization of crime data "
   ]
  },
  {
   "cell_type": "code",
   "execution_count": 2,
   "id": "6cf09bc7",
   "metadata": {},
   "outputs": [
    {
     "data": {
      "application/vnd.jupyter.widget-view+json": {
       "model_id": "",
       "version_major": 2,
       "version_minor": 0
      },
      "text/plain": [
       "FloatProgress(value=0.0, bar_style='info', description='Progress:', layout=Layout(height='25px', width='50%'),…"
      ]
     },
     "metadata": {},
     "output_type": "display_data"
    },
    {
     "name": "stdout",
     "output_type": "stream",
     "text": [
      "DataFrame[year: string, state_abbr: string, state_name: string, population: string, violent_crime: string, homicide: string, rape_legacy: string, rape_revised: string, robbery: string, aggravated_assault: string, property_crime: string, burglary: string, larceny: string, motor_vehicle_theft: string, caveats: string]"
     ]
    }
   ],
   "source": [
    "from pyspark.sql import SparkSession\n",
    "spark = SparkSession \\\n",
    "    .builder \\\n",
    "    .appName(\"crime analysis\") \\\n",
    "    .config(\"spark.some.config.option\", \"some-value\") \\\n",
    "    .getOrCreate()\n",
    "\n",
    "df = spark.read.format(\"csv\").option(\"header\", \"true\").load(\"s3://crimedatavisuals/estimated_crimes_1979_2020 (2).csv\") \n",
    "crime2 = spark.read.format(\"csv\").option(\"header\", \"true\").load(\"s3://crimedatavisuals/LEOKA_ASSIGNMENT_ACTIVITY_1995_2021.csv\")\n",
    "df.na.drop(\"any\")"
   ]
  },
  {
   "cell_type": "code",
   "execution_count": 28,
   "id": "23869cd6",
   "metadata": {},
   "outputs": [
    {
     "data": {
      "application/vnd.jupyter.widget-view+json": {
       "model_id": "",
       "version_major": 2,
       "version_minor": 0
      },
      "text/plain": [
       "FloatProgress(value=0.0, bar_style='info', description='Progress:', layout=Layout(height='25px', width='50%'),…"
      ]
     },
     "metadata": {},
     "output_type": "display_data"
    },
    {
     "name": "stdout",
     "output_type": "stream",
     "text": [
      "3331806"
     ]
    }
   ],
   "source": [
    "\n",
    "crime2.count()\n"
   ]
  },
  {
   "cell_type": "code",
   "execution_count": 3,
   "id": "185d92e8",
   "metadata": {},
   "outputs": [
    {
     "data": {
      "application/vnd.jupyter.widget-view+json": {
       "model_id": "",
       "version_major": 2,
       "version_minor": 0
      },
      "text/plain": [
       "FloatProgress(value=0.0, bar_style='info', description='Progress:', layout=Layout(height='25px', width='50%'),…"
      ]
     },
     "metadata": {},
     "output_type": "display_data"
    },
    {
     "name": "stdout",
     "output_type": "stream",
     "text": [
      "root\n",
      " |-- year: string (nullable = true)\n",
      " |-- state_abbr: string (nullable = true)\n",
      " |-- state_name: string (nullable = true)\n",
      " |-- population: string (nullable = true)\n",
      " |-- violent_crime: string (nullable = true)\n",
      " |-- homicide: string (nullable = true)\n",
      " |-- rape_legacy: string (nullable = true)\n",
      " |-- rape_revised: string (nullable = true)\n",
      " |-- robbery: string (nullable = true)\n",
      " |-- aggravated_assault: string (nullable = true)\n",
      " |-- property_crime: string (nullable = true)\n",
      " |-- burglary: string (nullable = true)\n",
      " |-- larceny: string (nullable = true)\n",
      " |-- motor_vehicle_theft: string (nullable = true)\n",
      " |-- caveats: string (nullable = true)"
     ]
    }
   ],
   "source": [
    "df.printSchema()\n"
   ]
  },
  {
   "cell_type": "code",
   "execution_count": 13,
   "id": "a95efc2f",
   "metadata": {},
   "outputs": [
    {
     "data": {
      "application/vnd.jupyter.widget-view+json": {
       "model_id": "",
       "version_major": 2,
       "version_minor": 0
      },
      "text/plain": [
       "FloatProgress(value=0.0, bar_style='info', description='Progress:', layout=Layout(height='25px', width='50%'),…"
      ]
     },
     "metadata": {},
     "output_type": "display_data"
    },
    {
     "name": "stdout",
     "output_type": "stream",
     "text": [
      "+----+----------+--------------------+----------+-------------+--------+-----------+------------+-------+------------------+--------------+--------+-------+-------------------+-------+\n",
      "|year|state_abbr|          state_name|population|violent_crime|homicide|rape_legacy|rape_revised|robbery|aggravated_assault|property_crime|burglary|larceny|motor_vehicle_theft|caveats|\n",
      "+----+----------+--------------------+----------+-------------+--------+-----------+------------+-------+------------------+--------------+--------+-------+-------------------+-------+\n",
      "|1979|      null|                null| 220099000|      1208030|   21460|      76390|        null| 480700|            629480|      11041500| 3327700|6601000|            1112800|   null|\n",
      "|1979|        AK|              Alaska|    406000|         1994|      54|        292|        null|    445|              1203|         23193|    5616|  15076|               2501|   null|\n",
      "|1979|        AL|             Alabama|   3769000|        15578|     496|       1037|        null|   4127|              9918|        144372|   48517|  83791|              12064|   null|\n",
      "|1979|        AR|            Arkansas|   2180000|         7984|     198|        595|        null|   1626|              5565|         70949|   21457|  45267|               4225|   null|\n",
      "|1979|        AZ|             Arizona|   2450000|        14528|     219|       1120|        null|   4305|              8884|        177977|   48916| 116976|              12085|   null|\n",
      "|1979|        CA|          California|  22696000|       184087|    2952|      12239|        null|  75767|             93129|       1511021|  496310| 847148|             167563|   null|\n",
      "|1979|        CO|            Colorado|   2772000|        14472|     161|       1472|        null|   4353|              8486|        180984|   49741| 117898|              13345|   null|\n",
      "|1979|        CT|         Connecticut|   3115000|        12902|     131|        752|        null|   6021|              5998|        167131|   48229|  96997|              21905|   null|\n",
      "|1979|        DC|District of Columbia|    656000|        10553|     180|        489|        null|   6920|              2964|         45877|   13452|  28819|               3606|   null|\n",
      "|1979|        DE|            Delaware|    582000|         3127|      33|        162|        null|    753|              2179|         34853|    8890|  23081|               2882|   null|\n",
      "|1979|        FL|             Florida|   8860000|        73881|    1084|       4576|        null|  22097|             46124|        607281|  190884| 378099|              38298|   null|\n",
      "|1979|        GA|             Georgia|   5118000|        28594|     877|       2216|        null|  10939|             14562|        248641|   81579| 145758|              21304|   null|\n",
      "|1979|        HI|              Hawaii|    915000|         2651|      66|        296|        null|   1688|               601|         63664|   16538|  40580|               6546|   null|\n",
      "|1979|        IA|                Iowa|   2903000|         5259|      65|        320|        null|   1457|              3417|        119620|   26768|  85023|               7829|   null|\n",
      "|1979|        ID|               Idaho|    905000|         2613|      49|        186|        null|    392|              1986|         35766|    9729|  23577|               2460|   null|\n",
      "|1979|        IL|            Illinois|  11230000|        83540|    1203|       3702|        null|  36056|             42579|        593750|  161776| 356062|              75912|   null|\n",
      "|1979|        IN|             Indiana|   5400000|        18254|     448|       1681|        null|   7167|              8958|        230223|   63176| 143666|              23381|   null|\n",
      "|1979|        KS|              Kansas|   2369000|         8376|     130|        626|        null|   2423|              5197|        107605|   31504|  69622|               6479|   null|\n",
      "|1979|        KY|            Kentucky|   3527000|         8748|     335|        719|        null|   3247|              4447|        103548|   32082|  62431|               9035|   null|\n",
      "|1979|        LA|           Louisiana|   4026000|        27229|     682|       1554|        null|   8832|             16161|        188514|   56237| 115856|              16421|   null|\n",
      "+----+----------+--------------------+----------+-------------+--------+-----------+------------+-------+------------------+--------------+--------+-------+-------------------+-------+\n",
      "only showing top 20 rows"
     ]
    }
   ],
   "source": [
    "df.show()"
   ]
  },
  {
   "cell_type": "code",
   "execution_count": 4,
   "id": "f31f9edd",
   "metadata": {},
   "outputs": [
    {
     "data": {
      "application/vnd.jupyter.widget-view+json": {
       "model_id": "",
       "version_major": 2,
       "version_minor": 0
      },
      "text/plain": [
       "FloatProgress(value=0.0, bar_style='info', description='Progress:', layout=Layout(height='25px', width='50%'),…"
      ]
     },
     "metadata": {},
     "output_type": "display_data"
    },
    {
     "name": "stdout",
     "output_type": "stream",
     "text": [
      "+----+--------------------+\n",
      "|year|          state_name|\n",
      "+----+--------------------+\n",
      "|1979|                null|\n",
      "|1979|              Alaska|\n",
      "|1979|             Alabama|\n",
      "|1979|            Arkansas|\n",
      "|1979|             Arizona|\n",
      "|1979|          California|\n",
      "|1979|            Colorado|\n",
      "|1979|         Connecticut|\n",
      "|1979|District of Columbia|\n",
      "|1979|            Delaware|\n",
      "|1979|             Florida|\n",
      "|1979|             Georgia|\n",
      "|1979|              Hawaii|\n",
      "|1979|                Iowa|\n",
      "|1979|               Idaho|\n",
      "|1979|            Illinois|\n",
      "|1979|             Indiana|\n",
      "|1979|              Kansas|\n",
      "|1979|            Kentucky|\n",
      "|1979|           Louisiana|\n",
      "+----+--------------------+\n",
      "only showing top 20 rows"
     ]
    }
   ],
   "source": [
    "df.select(\"year\",\"state_name\").show()"
   ]
  },
  {
   "cell_type": "markdown",
   "id": "420c730b",
   "metadata": {},
   "source": [
    "# Hypothesis 1"
   ]
  },
  {
   "cell_type": "code",
   "execution_count": 7,
   "id": "96abd177",
   "metadata": {},
   "outputs": [
    {
     "data": {
      "application/vnd.jupyter.widget-view+json": {
       "model_id": "",
       "version_major": 2,
       "version_minor": 0
      },
      "text/plain": [
       "FloatProgress(value=0.0, bar_style='info', description='Progress:', layout=Layout(height='25px', width='50%'),…"
      ]
     },
     "metadata": {},
     "output_type": "display_data"
    },
    {
     "name": "stdout",
     "output_type": "stream",
     "text": [
      "DataFrame[state_name: string, year: string, total_crime: double]"
     ]
    }
   ],
   "source": [
    "from pyspark.sql.functions import *\n",
    "\n",
    "df1 = df.groupBy(\"state_name\",\"year\").agg(\n",
    "    sum(col(\"homicide\")+col(\"robbery\")+col(\"violent_crime\")+col(\"motor_vehicle_theft\")+col(\"property_crime\")+col(\"burglary\")).alias(\"total_crime\")\n",
    ")\n",
    "\n",
    "df1.na.drop(\"any\")"
   ]
  },
  {
   "cell_type": "code",
   "execution_count": 8,
   "id": "8bf9e41c",
   "metadata": {},
   "outputs": [
    {
     "data": {
      "application/vnd.jupyter.widget-view+json": {
       "model_id": "",
       "version_major": 2,
       "version_minor": 0
      },
      "text/plain": [
       "FloatProgress(value=0.0, bar_style='info', description='Progress:', layout=Layout(height='25px', width='50%'),…"
      ]
     },
     "metadata": {},
     "output_type": "display_data"
    },
    {
     "name": "stdout",
     "output_type": "stream",
     "text": [
      "+----+-------------+-----------+\n",
      "|year|   state_name|total_crime|\n",
      "+----+-------------+-----------+\n",
      "|1980|       Oregon|   233718.0|\n",
      "|1993|  Connecticut|   210612.0|\n",
      "|1984|     Virginia|   277213.0|\n",
      "|1983|New Hampshire|    42065.0|\n",
      "|2004|      Alabama|   266650.0|\n",
      "|1979|     Michigan|   781313.0|\n",
      "|2008|     Illinois|   582519.0|\n",
      "|1994|    Wisconsin|   257563.0|\n",
      "|2006|      Arizona|   453937.0|\n",
      "|2002|    Louisiana|   301780.0|\n",
      "|2003|       Alaska|    35083.0|\n",
      "|1981|     Michigan|   884966.0|\n",
      "|1996|    Louisiana|   394213.0|\n",
      "|2000|     Kentucky|   157657.0|\n",
      "|2008|   New Jersey|   301137.0|\n",
      "|2010|Massachusetts|   241716.0|\n",
      "|1986|  Mississippi|   121982.0|\n",
      "|2010|      Wyoming|    17814.0|\n",
      "|2011|  Connecticut|   113050.0|\n",
      "|2017|     Kentucky|   140316.0|\n",
      "+----+-------------+-----------+\n",
      "only showing top 20 rows"
     ]
    }
   ],
   "source": [
    "df1.select(\"year\",\"state_name\",\"total_crime\").show()"
   ]
  },
  {
   "cell_type": "code",
   "execution_count": 9,
   "id": "2f83f9f2",
   "metadata": {},
   "outputs": [
    {
     "data": {
      "application/vnd.jupyter.widget-view+json": {
       "model_id": "",
       "version_major": 2,
       "version_minor": 0
      },
      "text/plain": [
       "FloatProgress(value=0.0, bar_style='info', description='Progress:', layout=Layout(height='25px', width='50%'),…"
      ]
     },
     "metadata": {},
     "output_type": "display_data"
    },
    {
     "name": "stdout",
     "output_type": "stream",
     "text": [
      "root\n",
      " |-- state_name: string (nullable = true)\n",
      " |-- year: string (nullable = true)\n",
      " |-- total_crime: double (nullable = true)"
     ]
    }
   ],
   "source": [
    "df1.printSchema()\n"
   ]
  },
  {
   "cell_type": "code",
   "execution_count": 10,
   "id": "e0b08b3e",
   "metadata": {},
   "outputs": [
    {
     "data": {
      "application/vnd.jupyter.widget-view+json": {
       "model_id": "",
       "version_major": 2,
       "version_minor": 0
      },
      "text/plain": [
       "FloatProgress(value=0.0, bar_style='info', description='Progress:', layout=Layout(height='25px', width='50%'),…"
      ]
     },
     "metadata": {},
     "output_type": "display_data"
    },
    {
     "name": "stdout",
     "output_type": "stream",
     "text": [
      "+-------------+----+-----------+\n",
      "|   state_name|year|total_crime|\n",
      "+-------------+----+-----------+\n",
      "|       Oregon|1980|   233718.0|\n",
      "|  Connecticut|1993|   210612.0|\n",
      "|     Virginia|1984|   277213.0|\n",
      "|New Hampshire|1983|    42065.0|\n",
      "|      Alabama|2004|   266650.0|\n",
      "|     Michigan|1979|   781313.0|\n",
      "|     Illinois|2008|   582519.0|\n",
      "|    Wisconsin|1994|   257563.0|\n",
      "|      Arizona|2006|   453937.0|\n",
      "|    Louisiana|2002|   301780.0|\n",
      "|       Alaska|2003|    35083.0|\n",
      "|     Michigan|1981|   884966.0|\n",
      "|    Louisiana|1996|   394213.0|\n",
      "|     Kentucky|2000|   157657.0|\n",
      "|   New Jersey|2008|   301137.0|\n",
      "|Massachusetts|2010|   241716.0|\n",
      "|  Mississippi|1986|   121982.0|\n",
      "|      Wyoming|2010|    17814.0|\n",
      "|  Connecticut|2011|   113050.0|\n",
      "|     Kentucky|2017|   140316.0|\n",
      "+-------------+----+-----------+\n",
      "only showing top 20 rows"
     ]
    }
   ],
   "source": [
    "df1.show()"
   ]
  },
  {
   "cell_type": "markdown",
   "id": "c6c60dbd",
   "metadata": {},
   "source": [
    "# Hypothesis 2"
   ]
  },
  {
   "cell_type": "code",
   "execution_count": 11,
   "id": "69499332",
   "metadata": {},
   "outputs": [
    {
     "data": {
      "application/vnd.jupyter.widget-view+json": {
       "model_id": "",
       "version_major": 2,
       "version_minor": 0
      },
      "text/plain": [
       "FloatProgress(value=0.0, bar_style='info', description='Progress:', layout=Layout(height='25px', width='50%'),…"
      ]
     },
     "metadata": {},
     "output_type": "display_data"
    },
    {
     "name": "stdout",
     "output_type": "stream",
     "text": [
      "+------------------+-----------+\n",
      "|        state_name|total_crime|\n",
      "+------------------+-----------+\n",
      "|           Vermont|     9970.0|\n",
      "|           Vermont|    11210.0|\n",
      "|           Vermont|    11933.0|\n",
      "|           Vermont|    12156.0|\n",
      "|           Wyoming|    12540.0|\n",
      "|           Vermont|    12708.0|\n",
      "|           Vermont|    12716.0|\n",
      "|           Vermont|    12792.0|\n",
      "|           Wyoming|    13016.0|\n",
      "|           Wyoming|    13966.0|\n",
      "|           Wyoming|    14315.0|\n",
      "|           Wyoming|    14880.0|\n",
      "|           Wyoming|    14980.0|\n",
      "|           Wyoming|    15541.0|\n",
      "|      North Dakota|    16079.0|\n",
      "|      North Dakota|    16531.0|\n",
      "|           Wyoming|    16597.0|\n",
      "|           Wyoming|    16646.0|\n",
      "|      North Dakota|    16736.0|\n",
      "|      North Dakota|    16971.0|\n",
      "|           Wyoming|    17167.0|\n",
      "|      North Dakota|    17527.0|\n",
      "|      North Dakota|    17801.0|\n",
      "|           Wyoming|    17814.0|\n",
      "|      North Dakota|    17833.0|\n",
      "|      North Dakota|    17994.0|\n",
      "|           Vermont|    18258.0|\n",
      "|      North Dakota|    18390.0|\n",
      "|           Vermont|    18431.0|\n",
      "|           Wyoming|    18461.0|\n",
      "|      North Dakota|    18582.0|\n",
      "|      South Dakota|    18588.0|\n",
      "|      North Dakota|    18591.0|\n",
      "|      North Dakota|    18611.0|\n",
      "|      North Dakota|    18657.0|\n",
      "|           Vermont|    18850.0|\n",
      "|           Wyoming|    18875.0|\n",
      "|           Wyoming|    19018.0|\n",
      "|      Rhode Island|    19246.0|\n",
      "|      South Dakota|    19335.0|\n",
      "|           Vermont|    19388.0|\n",
      "|           Vermont|    19445.0|\n",
      "|           Vermont|    19470.0|\n",
      "|           Wyoming|    19613.0|\n",
      "|           Wyoming|    19680.0|\n",
      "|     New Hampshire|    19762.0|\n",
      "|      North Dakota|    19782.0|\n",
      "|      South Dakota|    19789.0|\n",
      "|      South Dakota|    19866.0|\n",
      "|           Vermont|    19886.0|\n",
      "|           Wyoming|    19899.0|\n",
      "|      South Dakota|    19929.0|\n",
      "|           Vermont|    19948.0|\n",
      "|           Vermont|    20016.0|\n",
      "|      North Dakota|    20082.0|\n",
      "|             Maine|    20139.0|\n",
      "|      South Dakota|    20328.0|\n",
      "|           Vermont|    20487.0|\n",
      "|      North Dakota|    20489.0|\n",
      "|           Wyoming|    20499.0|\n",
      "|      South Dakota|    20519.0|\n",
      "|      North Dakota|    20561.0|\n",
      "|      North Dakota|    20578.0|\n",
      "|           Wyoming|    20662.0|\n",
      "|      North Dakota|    20881.0|\n",
      "|           Vermont|    20968.0|\n",
      "|      North Dakota|    20971.0|\n",
      "|           Vermont|    21000.0|\n",
      "|           Vermont|    21157.0|\n",
      "|           Wyoming|    21157.0|\n",
      "|      North Dakota|    21174.0|\n",
      "|           Vermont|    21266.0|\n",
      "|      North Dakota|    21281.0|\n",
      "|      North Dakota|    21287.0|\n",
      "|           Vermont|    21305.0|\n",
      "|      South Dakota|    21323.0|\n",
      "|      South Dakota|    21343.0|\n",
      "|      South Dakota|    21467.0|\n",
      "|           Wyoming|    21469.0|\n",
      "|      South Dakota|    21553.0|\n",
      "|             Maine|    21653.0|\n",
      "|      South Dakota|    21656.0|\n",
      "|           Wyoming|    21667.0|\n",
      "|           Wyoming|    21781.0|\n",
      "|     New Hampshire|    21790.0|\n",
      "|      North Dakota|    21839.0|\n",
      "|      North Dakota|    21841.0|\n",
      "|      North Dakota|    21846.0|\n",
      "|      North Dakota|    21926.0|\n",
      "|      North Dakota|    21964.0|\n",
      "|      North Dakota|    22105.0|\n",
      "|      North Dakota|    22140.0|\n",
      "|           Wyoming|    22228.0|\n",
      "|      North Dakota|    22266.0|\n",
      "|      North Dakota|    22277.0|\n",
      "|      North Dakota|    22298.0|\n",
      "|      North Dakota|    22354.0|\n",
      "|      North Dakota|    22484.0|\n",
      "|      South Dakota|    22499.0|\n",
      "|           Wyoming|    22542.0|\n",
      "+------------------+-----------+\n",
      "only showing top 100 rows"
     ]
    }
   ],
   "source": [
    "columns = ['state_name','total_crime']\n",
    "\n",
    "df1.orderBy(df1[\"total_crime\"].asc()).select(columns).show(100)\n"
   ]
  },
  {
   "cell_type": "markdown",
   "id": "fdf4babe",
   "metadata": {},
   "source": [
    "# Hypothesis 3"
   ]
  },
  {
   "cell_type": "code",
   "execution_count": 12,
   "id": "b39ed77f",
   "metadata": {},
   "outputs": [
    {
     "data": {
      "application/vnd.jupyter.widget-view+json": {
       "model_id": "",
       "version_major": 2,
       "version_minor": 0
      },
      "text/plain": [
       "FloatProgress(value=0.0, bar_style='info', description='Progress:', layout=Layout(height='25px', width='50%'),…"
      ]
     },
     "metadata": {},
     "output_type": "display_data"
    }
   ],
   "source": [
    "from pyspark.sql.functions import *\n",
    "\n",
    "df2 = df.groupBy(\"state_name\").agg(\n",
    "    max(col(\"homicide\"))\n",
    ")"
   ]
  },
  {
   "cell_type": "code",
   "execution_count": 13,
   "id": "4ba79ed0",
   "metadata": {},
   "outputs": [
    {
     "data": {
      "application/vnd.jupyter.widget-view+json": {
       "model_id": "",
       "version_major": 2,
       "version_minor": 0
      },
      "text/plain": [
       "FloatProgress(value=0.0, bar_style='info', description='Progress:', layout=Layout(height='25px', width='50%'),…"
      ]
     },
     "metadata": {},
     "output_type": "display_data"
    },
    {
     "name": "stdout",
     "output_type": "stream",
     "text": [
      "+--------------------+-------------+\n",
      "|          state_name|max(homicide)|\n",
      "+--------------------+-------------+\n",
      "|                null|        24703|\n",
      "|             Georgia|          943|\n",
      "|            New York|          808|\n",
      "|           Minnesota|           99|\n",
      "|              Alaska|           69|\n",
      "|       New Hampshire|           33|\n",
      "|            Nebraska|           71|\n",
      "|            Oklahoma|          400|\n",
      "|District of Columbia|           88|\n",
      "|            Maryland|          632|\n",
      "|            Missouri|          599|\n",
      "|            Maryland|          553|\n",
      "|            Kentucky|          364|\n",
      "|       Massachusetts|          254|\n",
      "|            New York|          960|\n",
      "|             Florida|         1290|\n",
      "|            Missouri|          723|\n",
      "|         Connecticut|           98|\n",
      "|              Hawaii|           41|\n",
      "|            Michigan|          754|\n",
      "+--------------------+-------------+\n",
      "only showing top 20 rows"
     ]
    }
   ],
   "source": [
    "df2.show()"
   ]
  },
  {
   "cell_type": "code",
   "execution_count": 18,
   "id": "639b4b3d",
   "metadata": {},
   "outputs": [
    {
     "data": {
      "application/vnd.jupyter.widget-view+json": {
       "model_id": "",
       "version_major": 2,
       "version_minor": 0
      },
      "text/plain": [
       "FloatProgress(value=0.0, bar_style='info', description='Progress:', layout=Layout(height='25px', width='50%'),…"
      ]
     },
     "metadata": {},
     "output_type": "display_data"
    }
   ],
   "source": [
    "from pyspark.sql.functions import *\n",
    "\n",
    "df3 = df.groupBy(\"state_name\").agg(\n",
    "    max(col(\"violent_crime\"))\n",
    ")"
   ]
  },
  {
   "cell_type": "code",
   "execution_count": 19,
   "id": "043a7d5e",
   "metadata": {},
   "outputs": [
    {
     "data": {
      "application/vnd.jupyter.widget-view+json": {
       "model_id": "",
       "version_major": 2,
       "version_minor": 0
      },
      "text/plain": [
       "FloatProgress(value=0.0, bar_style='info', description='Progress:', layout=Layout(height='25px', width='50%'),…"
      ]
     },
     "metadata": {},
     "output_type": "display_data"
    },
    {
     "name": "stdout",
     "output_type": "stream",
     "text": [
      "+--------------------+------------------+\n",
      "|          state_name|max(violent_crime)|\n",
      "+--------------------+------------------+\n",
      "|                null|           1932274|\n",
      "|             Georgia|             42850|\n",
      "|            New York|             70339|\n",
      "|           Minnesota|              9344|\n",
      "|              Alaska|              6346|\n",
      "|       New Hampshire|              2152|\n",
      "|            Nebraska|              7507|\n",
      "|            Oklahoma|             21770|\n",
      "|District of Columbia|              9423|\n",
      "|            Maryland|             49757|\n",
      "|            Missouri|             39358|\n",
      "|            Maryland|             27511|\n",
      "|            Kentucky|              9887|\n",
      "|       Massachusetts|             48393|\n",
      "|            New York|             98022|\n",
      "|             Florida|             83368|\n",
      "|            Missouri|             33385|\n",
      "|         Connecticut|              9889|\n",
      "|              Hawaii|              3745|\n",
      "|            Michigan|             47641|\n",
      "+--------------------+------------------+\n",
      "only showing top 20 rows"
     ]
    }
   ],
   "source": [
    "df3.show()"
   ]
  },
  {
   "cell_type": "code",
   "execution_count": 20,
   "id": "da8d2c6a",
   "metadata": {},
   "outputs": [
    {
     "data": {
      "application/vnd.jupyter.widget-view+json": {
       "model_id": "",
       "version_major": 2,
       "version_minor": 0
      },
      "text/plain": [
       "FloatProgress(value=0.0, bar_style='info', description='Progress:', layout=Layout(height='25px', width='50%'),…"
      ]
     },
     "metadata": {},
     "output_type": "display_data"
    }
   ],
   "source": [
    "from pyspark.sql.functions import *\n",
    "\n",
    "df4 = df.groupBy(\"state_name\").agg(\n",
    "    max(col(\"robbery\"))\n",
    ")"
   ]
  },
  {
   "cell_type": "code",
   "execution_count": 21,
   "id": "5b388514",
   "metadata": {},
   "outputs": [
    {
     "data": {
      "application/vnd.jupyter.widget-view+json": {
       "model_id": "",
       "version_major": 2,
       "version_minor": 0
      },
      "text/plain": [
       "FloatProgress(value=0.0, bar_style='info', description='Progress:', layout=Layout(height='25px', width='50%'),…"
      ]
     },
     "metadata": {},
     "output_type": "display_data"
    },
    {
     "name": "stdout",
     "output_type": "stream",
     "text": [
      "+--------------------+------------+\n",
      "|          state_name|max(robbery)|\n",
      "+--------------------+------------+\n",
      "|                null|      687732|\n",
      "|             Georgia|        7488|\n",
      "|            New York|       18165|\n",
      "|           Minnesota|        5702|\n",
      "|              Alaska|         826|\n",
      "|       New Hampshire|         327|\n",
      "|            Nebraska|         994|\n",
      "|            Oklahoma|        4376|\n",
      "|District of Columbia|        9137|\n",
      "|            Maryland|        9716|\n",
      "|            Missouri|        9554|\n",
      "|            Maryland|        9215|\n",
      "|            Kentucky|        4080|\n",
      "|       Massachusetts|        9137|\n",
      "|            New York|       97434|\n",
      "|             Florida|       16234|\n",
      "|            Missouri|        4995|\n",
      "|         Connecticut|        7717|\n",
      "|              Hawaii|         867|\n",
      "|            Michigan|        5352|\n",
      "+--------------------+------------+\n",
      "only showing top 20 rows"
     ]
    }
   ],
   "source": [
    "df4.show()"
   ]
  },
  {
   "cell_type": "code",
   "execution_count": 22,
   "id": "df2e7a30",
   "metadata": {},
   "outputs": [
    {
     "data": {
      "application/vnd.jupyter.widget-view+json": {
       "model_id": "",
       "version_major": 2,
       "version_minor": 0
      },
      "text/plain": [
       "FloatProgress(value=0.0, bar_style='info', description='Progress:', layout=Layout(height='25px', width='50%'),…"
      ]
     },
     "metadata": {},
     "output_type": "display_data"
    }
   ],
   "source": [
    "from pyspark.sql.functions import *\n",
    "\n",
    "df5 = df.groupBy(\"state_name\").agg(\n",
    "    max(col(\"motor_vehicle_theft\"))\n",
    ")"
   ]
  },
  {
   "cell_type": "code",
   "execution_count": 23,
   "id": "17a36ce0",
   "metadata": {},
   "outputs": [
    {
     "data": {
      "application/vnd.jupyter.widget-view+json": {
       "model_id": "",
       "version_major": 2,
       "version_minor": 0
      },
      "text/plain": [
       "FloatProgress(value=0.0, bar_style='info', description='Progress:', layout=Layout(height='25px', width='50%'),…"
      ]
     },
     "metadata": {},
     "output_type": "display_data"
    },
    {
     "name": "stdout",
     "output_type": "stream",
     "text": [
      "+--------------------+------------------------+\n",
      "|          state_name|max(motor_vehicle_theft)|\n",
      "+--------------------+------------------------+\n",
      "|                null|                  959059|\n",
      "|             Georgia|                   25506|\n",
      "|            New York|                   19656|\n",
      "|           Minnesota|                    9818|\n",
      "|              Alaska|                    2617|\n",
      "|       New Hampshire|                     943|\n",
      "|            Nebraska|                    6490|\n",
      "|            Oklahoma|                   21456|\n",
      "|District of Columbia|                    9975|\n",
      "|            Maryland|                   38197|\n",
      "|            Missouri|                   29951|\n",
      "|            Maryland|                   11281|\n",
      "|            Kentucky|                    9948|\n",
      "|       Massachusetts|                    9237|\n",
      "|            New York|                   89900|\n",
      "|             Florida|                   39091|\n",
      "|            Missouri|                   24189|\n",
      "|         Connecticut|                    9951|\n",
      "|              Hawaii|                    5344|\n",
      "|            Michigan|                   18385|\n",
      "+--------------------+------------------------+\n",
      "only showing top 20 rows"
     ]
    }
   ],
   "source": [
    "df5.show()"
   ]
  },
  {
   "cell_type": "code",
   "execution_count": 24,
   "id": "0aeb2f87",
   "metadata": {},
   "outputs": [
    {
     "data": {
      "application/vnd.jupyter.widget-view+json": {
       "model_id": "",
       "version_major": 2,
       "version_minor": 0
      },
      "text/plain": [
       "FloatProgress(value=0.0, bar_style='info', description='Progress:', layout=Layout(height='25px', width='50%'),…"
      ]
     },
     "metadata": {},
     "output_type": "display_data"
    }
   ],
   "source": [
    "from pyspark.sql.functions import *\n",
    "\n",
    "df6 = df.groupBy(\"state_name\").agg(\n",
    "    max(col(\"property_crime\"))\n",
    ")"
   ]
  },
  {
   "cell_type": "code",
   "execution_count": 25,
   "id": "59bd962c",
   "metadata": {},
   "outputs": [
    {
     "data": {
      "application/vnd.jupyter.widget-view+json": {
       "model_id": "",
       "version_major": 2,
       "version_minor": 0
      },
      "text/plain": [
       "FloatProgress(value=0.0, bar_style='info', description='Progress:', layout=Layout(height='25px', width='50%'),…"
      ]
     },
     "metadata": {},
     "output_type": "display_data"
    },
    {
     "name": "stdout",
     "output_type": "stream",
     "text": [
      "+--------------------+-------------------+\n",
      "|          state_name|max(property_crime)|\n",
      "+--------------------+-------------------+\n",
      "|                null|            9882212|\n",
      "|             Georgia|             294817|\n",
      "|            New York|             272788|\n",
      "|           Minnesota|             192109|\n",
      "|              Alaska|              21293|\n",
      "|       New Hampshire|              16552|\n",
      "|            Nebraska|              68963|\n",
      "|            Oklahoma|             184342|\n",
      "|District of Columbia|              53442|\n",
      "|            Maryland|             267625|\n",
      "|            Missouri|             240898|\n",
      "|            Maryland|              97487|\n",
      "|            Kentucky|              99909|\n",
      "|       Massachusetts|              97977|\n",
      "|            New York|             967369|\n",
      "|             Florida|             460966|\n",
      "|            Missouri|             163223|\n",
      "|         Connecticut|              99894|\n",
      "|              Hawaii|              40617|\n",
      "|            Michigan|             158317|\n",
      "+--------------------+-------------------+\n",
      "only showing top 20 rows"
     ]
    }
   ],
   "source": [
    "df6.show()"
   ]
  },
  {
   "cell_type": "code",
   "execution_count": null,
   "id": "3aa2329e",
   "metadata": {},
   "outputs": [],
   "source": []
  },
  {
   "cell_type": "code",
   "execution_count": 3,
   "id": "1ae97d78",
   "metadata": {},
   "outputs": [
    {
     "data": {
      "application/vnd.jupyter.widget-view+json": {
       "model_id": "",
       "version_major": 2,
       "version_minor": 0
      },
      "text/plain": [
       "FloatProgress(value=0.0, bar_style='info', description='Progress:', layout=Layout(height='25px', width='50%'),…"
      ]
     },
     "metadata": {},
     "output_type": "display_data"
    },
    {
     "name": "stdout",
     "output_type": "stream",
     "text": [
      "root\n",
      " |-- DATA_YEAR: string (nullable = true)\n",
      " |-- PUB_AGENCY_NAME: string (nullable = true)\n",
      " |-- PUB_AGENCY_UNIT: string (nullable = true)\n",
      " |-- STATE_ABBR: string (nullable = true)\n",
      " |-- DIVISION_NAME: string (nullable = true)\n",
      " |-- REGION_NAME: string (nullable = true)\n",
      " |-- AGENCY_TYPE_NAME: string (nullable = true)\n",
      " |-- POPULATION_GROUP_DESC: string (nullable = true)\n",
      " |-- COUNTY_NAME: string (nullable = true)\n",
      " |-- ACTIVITY_ID: string (nullable = true)\n",
      " |-- ACTIVITY_NAME: string (nullable = true)\n",
      " |-- TWO_OFFICER_VEHICLE_ACTUAL: string (nullable = true)\n",
      " |-- ONE_OFFICER_ALONE_ACTUAL: string (nullable = true)\n",
      " |-- ONE_OFFICER_ASSISTED_ACTUAL: string (nullable = true)\n",
      " |-- DET_SPE_ASS_ALONE_ACTUAL: string (nullable = true)\n",
      " |-- DET_SPE_ASS_ASSISTED_ACTUAL: string (nullable = true)\n",
      " |-- OTHER_ALONE_ACTUAL: string (nullable = true)\n",
      " |-- OTHER_ASSISTED_ACTUAL: string (nullable = true)\n",
      " |-- FIREARM_ACTUAL: string (nullable = true)\n",
      " |-- KNIFE_ACTUAL: string (nullable = true)\n",
      " |-- HANDS_FISTS_FEET_ACTUAL: string (nullable = true)\n",
      " |-- OTHER_ACTUAL: string (nullable = true)\n",
      " |-- CLEARED_COUNT: string (nullable = true)"
     ]
    }
   ],
   "source": [
    "crime2.printSchema()"
   ]
  },
  {
   "cell_type": "code",
   "execution_count": 4,
   "id": "dc31460a",
   "metadata": {},
   "outputs": [
    {
     "data": {
      "application/vnd.jupyter.widget-view+json": {
       "model_id": "",
       "version_major": 2,
       "version_minor": 0
      },
      "text/plain": [
       "FloatProgress(value=0.0, bar_style='info', description='Progress:', layout=Layout(height='25px', width='50%'),…"
      ]
     },
     "metadata": {},
     "output_type": "display_data"
    },
    {
     "name": "stdout",
     "output_type": "stream",
     "text": [
      "+---------+--------------------+-----------------+----------+------------------+-----------+--------------------+---------------------+-----------+-----------+--------------------+--------------------------+------------------------+---------------------------+------------------------+---------------------------+------------------+---------------------+--------------+------------+-----------------------+------------+-------------+\n",
      "|DATA_YEAR|     PUB_AGENCY_NAME|  PUB_AGENCY_UNIT|STATE_ABBR|     DIVISION_NAME|REGION_NAME|    AGENCY_TYPE_NAME|POPULATION_GROUP_DESC|COUNTY_NAME|ACTIVITY_ID|       ACTIVITY_NAME|TWO_OFFICER_VEHICLE_ACTUAL|ONE_OFFICER_ALONE_ACTUAL|ONE_OFFICER_ASSISTED_ACTUAL|DET_SPE_ASS_ALONE_ACTUAL|DET_SPE_ASS_ASSISTED_ACTUAL|OTHER_ALONE_ACTUAL|OTHER_ASSISTED_ACTUAL|FIREARM_ACTUAL|KNIFE_ACTUAL|HANDS_FISTS_FEET_ACTUAL|OTHER_ACTUAL|CLEARED_COUNT|\n",
      "+---------+--------------------+-----------------+----------+------------------+-----------+--------------------+---------------------+-----------+-----------+--------------------+--------------------------+------------------------+---------------------------+------------------------+---------------------------+------------------+---------------------+--------------+------------+-----------------------+------------+-------------+\n",
      "|     1995|       State Police:|  Accomack County|        VA|    South Atlantic|      South|        State Police| Non-MSA counties ...|   ACCOMACK|          1|Traffic Pursuits ...|                         0|                       0|                          0|                       0|                          0|                 0|                    0|             0|           0|                      0|           0|            0|\n",
      "|     1995|       State Police:|     Adair County|        KY|East South Central|      South|        State Police| Non-MSA counties ...|      ADAIR|          1|Traffic Pursuits ...|                         0|                       0|                          6|                       0|                          0|                 1|                    0|             6|           0|                      1|           0|            7|\n",
      "|     1995|       State Police:|     Adams County|        IN|East North Central|    Midwest|        State Police| MSA counties unde...|      ADAMS|          1|Traffic Pursuits ...|                         0|                       0|                          0|                       0|                          0|                 0|                    0|             0|           0|                      0|           0|            0|\n",
      "|     1995|       State Patrol:|     Adams County|        NB|West North Central|    Midwest|        State Police| Non-MSA counties ...|      ADAMS|          1|Traffic Pursuits ...|                         0|                       0|                          0|                       0|                          0|                 0|                    0|             0|           0|                      0|           0|            0|\n",
      "|     1995|San Francisco Bay...|   Alameda County|        CA|           Pacific|       West|               Other|   Cities under 2,500|    ALAMEDA|          1|Traffic Pursuits ...|                         0|                       0|                          0|                       0|                          0|                 0|                    0|             0|           0|                      0|           0|            0|\n",
      "|     1995|     Highway Patrol:|   Alameda County|        CA|           Pacific|       West|        State Police| MSA counties unde...|    ALAMEDA|          1|Traffic Pursuits ...|                         0|                       0|                          0|                       0|                          0|                 0|                    0|             0|           0|                      0|           0|            0|\n",
      "|     1995|State University ...|           Albany|        NY|   Middle Atlantic|  Northeast|University or Col...|   Cities under 2,500|     ALBANY|          1|Traffic Pursuits ...|                         0|                       0|                          0|                       0|                          0|                 0|                    0|             0|           0|                      0|           0|            0|\n",
      "|     1995|State University ...|   Albany (Plaza)|        NY|   Middle Atlantic|  Northeast|University or Col...|   Cities under 2,500|     ALBANY|          1|Traffic Pursuits ...|                         0|                       0|                          0|                       0|                          0|                 0|                    0|             0|           0|                      0|           0|            0|\n",
      "|     1995|Canadian Pacific ...|    Albany County|        NY|   Middle Atlantic|  Northeast|               Other| MSA counties unde...|     ALBANY|          1|Traffic Pursuits ...|                         0|                       0|                          0|                       0|                          0|                 0|                    0|             0|           0|                      0|           0|            0|\n",
      "|     1995|       State Police:|    Albany County|        NY|   Middle Atlantic|  Northeast|        State Police| MSA counties from...|     ALBANY|          1|Traffic Pursuits ...|                         0|                       0|                          0|                       0|                          0|                 0|                    0|             0|           0|                      0|           0|            0|\n",
      "|     1995|       State Police:|Albany County (T)|        NY|   Middle Atlantic|  Northeast|        State Police| MSA counties unde...|     ALBANY|          1|Traffic Pursuits ...|                         0|                       0|                          0|                       0|                          0|                 0|                    0|             0|           0|                      0|           0|            0|\n",
      "|     1995|       State Police:|    Alcona County|        MI|East North Central|    Midwest|        State Police| Non-MSA counties ...|     ALCONA|          1|Traffic Pursuits ...|                         0|                       0|                          0|                       0|                          0|                 0|                    0|             0|           0|                      0|           0|            0|\n",
      "|     1995|State University ...|           Alfred|        NY|   Middle Atlantic|  Northeast|University or Col...|   Cities under 2,500|   ALLEGANY|          1|Traffic Pursuits ...|                         0|                       0|                          0|                       0|                          0|                 0|                    0|             0|           0|                      0|           0|            0|\n",
      "|     1995|       State Police:|     Alger County|        MI|East North Central|    Midwest|        State Police| Non-MSA counties ...|      ALGER|          1|Traffic Pursuits ...|                         0|                       0|                          0|                       0|                          0|                 0|                    0|             0|           0|                      0|           0|            0|\n",
      "|     1995|       State Police:|   Allegan County|        MI|East North Central|    Midwest|        State Police| MSA counties unde...|    ALLEGAN|          1|Traffic Pursuits ...|                         0|                       0|                          0|                       0|                          0|                 0|                    0|             0|           0|                      0|           0|            0|\n",
      "|     1995|       State Police:|  Allegany County|        MD|    South Atlantic|      South|        State Police| MSA counties from...|   ALLEGANY|          1|Traffic Pursuits ...|                         0|                       4|                          0|                       0|                          0|                 0|                    0|             0|           0|                      2|           2|            4|\n",
      "|     1995|Canadian Pacific ...|  Allegany County|        NY|   Middle Atlantic|  Northeast|               Other| Non-MSA counties ...|   ALLEGANY|          1|Traffic Pursuits ...|                         0|                       0|                          0|                       0|                          0|                 0|                    0|             0|           0|                      0|           0|            0|\n",
      "|     1995|         State Park:|  Allegany County|        NY|   Middle Atlantic|  Northeast|  Other State Agency| Non-MSA counties ...|   ALLEGANY|          1|Traffic Pursuits ...|                         0|                       0|                          0|                       0|                          0|                 0|                    0|             0|           0|                      0|           0|            0|\n",
      "|     1995|       State Police:|  Allegany County|        NY|   Middle Atlantic|  Northeast|        State Police| Non-MSA counties ...|   ALLEGANY|          1|Traffic Pursuits ...|                         0|                       0|                          0|                       0|                          0|                 0|                    0|             0|           0|                      0|           0|            0|\n",
      "|     1995|       State Police:| Alleghany County|        VA|    South Atlantic|      South|        State Police| Non-MSA counties ...|  ALLEGHANY|          1|Traffic Pursuits ...|                         0|                       0|                          0|                       0|                          0|                 0|                    0|             0|           0|                      0|           0|            0|\n",
      "+---------+--------------------+-----------------+----------+------------------+-----------+--------------------+---------------------+-----------+-----------+--------------------+--------------------------+------------------------+---------------------------+------------------------+---------------------------+------------------+---------------------+--------------+------------+-----------------------+------------+-------------+\n",
      "only showing top 20 rows"
     ]
    }
   ],
   "source": [
    "crime2.show()"
   ]
  },
  {
   "cell_type": "code",
   "execution_count": 29,
   "id": "6faf10ba",
   "metadata": {},
   "outputs": [
    {
     "data": {
      "application/vnd.jupyter.widget-view+json": {
       "model_id": "",
       "version_major": 2,
       "version_minor": 0
      },
      "text/plain": [
       "FloatProgress(value=0.0, bar_style='info', description='Progress:', layout=Layout(height='25px', width='50%'),…"
      ]
     },
     "metadata": {},
     "output_type": "display_data"
    },
    {
     "name": "stdout",
     "output_type": "stream",
     "text": [
      "+----+----------+-------------+----------+-------------+--------+-----------+------------+-------+------------------+--------------+--------+-------+-------------------+-------+---------+---------------+---------------+----------+--------------+-----------+----------------+-----------------------------+-----------+-----------+--------------------------+--------------------------+------------------------+---------------------------+------------------------+---------------------------+------------------+---------------------+--------------+------------+-----------------------+------------+-------------+\n",
      "|year|state_abbr|state_name   |population|violent_crime|homicide|rape_legacy|rape_revised|robbery|aggravated_assault|property_crime|burglary|larceny|motor_vehicle_theft|caveats|DATA_YEAR|PUB_AGENCY_NAME|PUB_AGENCY_UNIT|STATE_ABBR|DIVISION_NAME |REGION_NAME|AGENCY_TYPE_NAME|POPULATION_GROUP_DESC        |COUNTY_NAME|ACTIVITY_ID|ACTIVITY_NAME             |TWO_OFFICER_VEHICLE_ACTUAL|ONE_OFFICER_ALONE_ACTUAL|ONE_OFFICER_ASSISTED_ACTUAL|DET_SPE_ASS_ALONE_ACTUAL|DET_SPE_ASS_ASSISTED_ACTUAL|OTHER_ALONE_ACTUAL|OTHER_ASSISTED_ACTUAL|FIREARM_ACTUAL|KNIFE_ACTUAL|HANDS_FISTS_FEET_ACTUAL|OTHER_ACTUAL|CLEARED_COUNT|\n",
      "+----+----------+-------------+----------+-------------+--------+-----------+------------+-------+------------------+--------------+--------+-------+-------------------+-------+---------+---------------+---------------+----------+--------------+-----------+----------------+-----------------------------+-----------+-----------+--------------------------+--------------------------+------------------------+---------------------------+------------------------+---------------------------+------------------+---------------------+--------------+------------+-----------------------+------------+-------------+\n",
      "|2020|VA        |     Virginia|8590563   |17925        |524     |null       |2279        |2947   |12175             |125114        |11465   |102796 |10853              |null   |1995     |State Police:  |Accomack County|VA        |South Atlantic|South      |State Police    |Non-MSA counties under 10,000|ACCOMACK   |1          |Traffic Pursuits and Stops|0                         |0                       |0                          |0                       |0                          |0                 |0                    |0             |0           |0                      |0           |0            |\n",
      "|2019|VA        |     Virginia|8556642   |17916        |447     |null       |2915        |3520   |11034             |140944        |13972   |116656 |10316              |null   |1995     |State Police:  |Accomack County|VA        |South Atlantic|South      |State Police    |Non-MSA counties under 10,000|ACCOMACK   |1          |Traffic Pursuits and Stops|0                         |0                       |0                          |0                       |0                          |0                 |0                    |0             |0           |0                      |0           |0            |\n",
      "|2018|VA        |Virginia     |8501286   |17357        |417     |null       |3072        |3610   |10258             |142931        |15659   |116496 |10776              |null   |1995     |State Police:  |Accomack County|VA        |South Atlantic|South      |State Police    |Non-MSA counties under 10,000|ACCOMACK   |1          |Traffic Pursuits and Stops|0                         |0                       |0                          |0                       |0                          |0                 |0                    |0             |0           |0                      |0           |0            |\n",
      "|2017|VA        |Virginia     |8465207   |17811        |470     |null       |3026        |4331   |9984              |152515        |18524   |123812 |10179              |null   |1995     |State Police:  |Accomack County|VA        |South Atlantic|South      |State Police    |Non-MSA counties under 10,000|ACCOMACK   |1          |Traffic Pursuits and Stops|0                         |0                       |0                          |0                       |0                          |0                 |0                    |0             |0           |0                      |0           |0            |\n",
      "|2016|VA        |Virginia     |8414380   |18495        |482     |2032       |2830        |4826   |10357             |157292        |20159   |127285 |9848               |null   |1995     |State Police:  |Accomack County|VA        |South Atlantic|South      |State Police    |Non-MSA counties under 10,000|ACCOMACK   |1          |Traffic Pursuits and Stops|0                         |0                       |0                          |0                       |0                          |0                 |0                    |0             |0           |0                      |0           |0            |\n",
      "|2015|VA        |Virginia     |8367587   |16705        |390     |1767       |2499        |4459   |9357              |157803        |21542   |128064 |8197               |null   |1995     |State Police:  |Accomack County|VA        |South Atlantic|South      |State Police    |Non-MSA counties under 10,000|ACCOMACK   |1          |Traffic Pursuits and Stops|0                         |0                       |0                          |0                       |0                          |0                 |0                    |0             |0           |0                      |0           |0            |\n",
      "|2014|VA        |Virginia     |8328098   |16522        |350     |1687       |2416        |4294   |9462              |161934        |23210   |131001 |7723               |null   |1995     |State Police:  |Accomack County|VA        |South Atlantic|South      |State Police    |Non-MSA counties under 10,000|ACCOMACK   |1          |Traffic Pursuits and Stops|0                         |0                       |0                          |0                       |0                          |0                 |0                    |0             |0           |0                      |0           |0            |\n",
      "|2013|VA        |Virginia     |8270345   |16355        |320     |1476       |2350        |4574   |9111              |171558        |26717   |136215 |8626               |null   |1995     |State Police:  |Accomack County|VA        |South Atlantic|South      |State Police    |Non-MSA counties under 10,000|ACCOMACK   |1          |Traffic Pursuits and Stops|0                         |0                       |0                          |0                       |0                          |0                 |0                    |0             |0           |0                      |0           |0            |\n",
      "|2012|VA        |Virginia     |8186628   |15676        |322     |1505       |null        |4718   |9131              |178434        |29651   |139654 |9129               |null   |1995     |State Police:  |Accomack County|VA        |South Atlantic|South      |State Police    |Non-MSA counties under 10,000|ACCOMACK   |1          |Traffic Pursuits and Stops|0                         |0                       |0                          |0                       |0                          |0                 |0                    |0             |0           |0                      |0           |0            |\n",
      "|2011|VA        |Virginia     |8104384   |16014        |304     |1591       |null        |5425   |8694              |182902        |30656   |142476 |9770               |null   |1995     |State Police:  |Accomack County|VA        |South Atlantic|South      |State Police    |Non-MSA counties under 10,000|ACCOMACK   |1          |Traffic Pursuits and Stops|0                         |0                       |0                          |0                       |0                          |0                 |0                    |0             |0           |0                      |0           |0            |\n",
      "|2010|VA        |Virginia     |8023953   |17184        |376     |1580       |null        |5678   |9550              |187403        |30804   |145990 |10609              |null   |1995     |State Police:  |Accomack County|VA        |South Atlantic|South      |State Police    |Non-MSA counties under 10,000|ACCOMACK   |1          |Traffic Pursuits and Stops|0                         |0                       |0                          |0                       |0                          |0                 |0                    |0             |0           |0                      |0           |0            |\n",
      "|2009|VA        |Virginia     |7882590   |18195        |370     |1572       |null        |6342   |9911              |194020        |31956   |150374 |11690              |null   |1995     |State Police:  |Accomack County|VA        |South Atlantic|South      |State Police    |Non-MSA counties under 10,000|ACCOMACK   |1          |Traffic Pursuits and Stops|0                         |0                       |0                          |0                       |0                          |0                 |0                    |0             |0           |0                      |0           |0            |\n",
      "|2008|VA        |Virginia     |7769089   |20031        |370     |1794       |null        |7470   |10397             |196726        |32188   |151191 |13347              |null   |1995     |State Police:  |Accomack County|VA        |South Atlantic|South      |State Police    |Non-MSA counties under 10,000|ACCOMACK   |1          |Traffic Pursuits and Stops|0                         |0                       |0                          |0                       |0                          |0                 |0                    |0             |0           |0                      |0           |0            |\n",
      "|2007|VA        |Virginia     |7712091   |21035        |415     |1793       |null        |7696   |11131             |191763        |32028   |145634 |14101              |null   |1995     |State Police:  |Accomack County|VA        |South Atlantic|South      |State Police    |Non-MSA counties under 10,000|ACCOMACK   |1          |Traffic Pursuits and Stops|0                         |0                       |0                          |0                       |0                          |0                 |0                    |0             |0           |0                      |0           |0            |\n",
      "|2006|VA        |Virginia     |7642884   |21683        |403     |1829       |null        |7779   |11672             |190257        |32166   |143292 |14799              |null   |1995     |State Police:  |Accomack County|VA        |South Atlantic|South      |State Police    |Non-MSA counties under 10,000|ACCOMACK   |1          |Traffic Pursuits and Stops|0                         |0                       |0                          |0                       |0                          |0                 |0                    |0             |0           |0                      |0           |0            |\n",
      "|2005|VA        |Virginia     |7564327   |21434        |458     |1763       |null        |7495   |11718             |200404        |29829   |154584 |15991              |null   |1995     |State Police:  |Accomack County|VA        |South Atlantic|South      |State Police    |Non-MSA counties under 10,000|ACCOMACK   |1          |Traffic Pursuits and Stops|0                         |0                       |0                          |0                       |0                          |0                 |0                    |0             |0           |0                      |0           |0            |\n",
      "|2004|VA        |Virginia     |7481332   |20608        |390     |1816       |null        |6899   |11503             |200368        |28759   |154154 |17455              |null   |1995     |State Police:  |Accomack County|VA        |South Atlantic|South      |State Police    |Non-MSA counties under 10,000|ACCOMACK   |1          |Traffic Pursuits and Stops|0                         |0                       |0                          |0                       |0                          |0                 |0                    |0             |0           |0                      |0           |0            |\n",
      "|2003|VA        |Virginia     |7365284   |20490        |416     |1807       |null        |6713   |11554             |200449        |29105   |153367 |17977              |null   |1995     |State Police:  |Accomack County|VA        |South Atlantic|South      |State Police    |Non-MSA counties under 10,000|ACCOMACK   |1          |Traffic Pursuits and Stops|0                         |0                       |0                          |0                       |0                          |0                 |0                    |0             |0           |0                      |0           |0            |\n",
      "|2002|VA        |Virginia     |7287829   |21256        |388     |1839       |null        |6961   |12068             |207783        |31757   |157548 |18478              |null   |1995     |State Police:  |Accomack County|VA        |South Atlantic|South      |State Police    |Non-MSA counties under 10,000|ACCOMACK   |1          |Traffic Pursuits and Stops|0                         |0                       |0                          |0                       |0                          |0                 |0                    |0             |0           |0                      |0           |0            |\n",
      "|2001|VA        |Virginia     |7196750   |20939        |364     |1770       |null        |6860   |11945             |207506        |31604   |157060 |18842              |null   |1995     |State Police:  |Accomack County|VA        |South Atlantic|South      |State Police    |Non-MSA counties under 10,000|ACCOMACK   |1          |Traffic Pursuits and Stops|0                         |0                       |0                          |0                       |0                          |0                 |0                    |0             |0           |0                      |0           |0            |\n",
      "+----+----------+-------------+----------+-------------+--------+-----------+------------+-------+------------------+--------------+--------+-------+-------------------+-------+---------+---------------+---------------+----------+--------------+-----------+----------------+-----------------------------+-----------+-----------+--------------------------+--------------------------+------------------------+---------------------------+------------------------+---------------------------+------------------+---------------------+--------------+------------+-----------------------+------------+-------------+\n",
      "only showing top 20 rows"
     ]
    }
   ],
   "source": [
    "df7 = df.join(crime2,df.state_abbr ==  crime2.STATE_ABBR,\"inner\") \\\n",
    "     .show(truncate=False)"
   ]
  },
  {
   "cell_type": "code",
   "execution_count": null,
   "id": "6f9f7781",
   "metadata": {},
   "outputs": [],
   "source": []
  }
 ],
 "metadata": {
  "kernelspec": {
   "display_name": "Python 3 (ipykernel)",
   "language": "python",
   "name": "python3"
  },
  "language_info": {
   "codemirror_mode": {
    "name": "ipython",
    "version": 3
   },
   "file_extension": ".py",
   "mimetype": "text/x-python",
   "name": "python",
   "nbconvert_exporter": "python",
   "pygments_lexer": "ipython3",
   "version": "3.9.12"
  }
 },
 "nbformat": 4,
 "nbformat_minor": 5
}
